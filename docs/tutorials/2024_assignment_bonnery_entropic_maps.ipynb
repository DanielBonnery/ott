{
  "cells": [
    {
      "cell_type": "markdown",
      "source": [
        "\n",
        "# OTT-jax tutorial : on the Pooladian and Niles-Weedto estimator of optimal transport maps.\n"
      ],
      "metadata": {
        "id": "EWSyPgE163oP"
      }
    },
    {
      "cell_type": "markdown",
      "source": [
        "## 0. Soft prerequisites\n"
      ],
      "metadata": {
        "id": "pLQWYo47vJRt"
      }
    },
    {
      "cell_type": "markdown",
      "source": [
        "\n",
        "### 0.1. Installation"
      ],
      "metadata": {
        "id": "TjCBFSV3XZV1"
      }
    },
    {
      "cell_type": "code",
      "source": [
        "! pip install ott-jax"
      ],
      "metadata": {
        "colab": {
          "base_uri": "https://localhost:8080/"
        },
        "id": "xw5BPRdN7Gqo",
        "outputId": "0d92a964-eed8-4c32-df06-5d9faaab4f81"
      },
      "execution_count": 100,
      "outputs": [
        {
          "output_type": "stream",
          "name": "stdout",
          "text": [
            "Requirement already satisfied: ott-jax in /usr/local/lib/python3.10/dist-packages (0.4.6)\n",
            "Requirement already satisfied: jax>=0.4.0 in /usr/local/lib/python3.10/dist-packages (from ott-jax) (0.4.26)\n",
            "Requirement already satisfied: jaxopt>=0.8 in /usr/local/lib/python3.10/dist-packages (from ott-jax) (0.8.3)\n",
            "Requirement already satisfied: numpy>=1.20.0 in /usr/local/lib/python3.10/dist-packages (from ott-jax) (1.25.2)\n",
            "Requirement already satisfied: lineax>=0.0.1 in /usr/local/lib/python3.10/dist-packages (from ott-jax) (0.0.5)\n",
            "Requirement already satisfied: ml-dtypes>=0.2.0 in /usr/local/lib/python3.10/dist-packages (from jax>=0.4.0->ott-jax) (0.2.0)\n",
            "Requirement already satisfied: opt-einsum in /usr/local/lib/python3.10/dist-packages (from jax>=0.4.0->ott-jax) (3.3.0)\n",
            "Requirement already satisfied: scipy>=1.9 in /usr/local/lib/python3.10/dist-packages (from jax>=0.4.0->ott-jax) (1.11.4)\n",
            "Requirement already satisfied: jaxlib>=0.1.69 in /usr/local/lib/python3.10/dist-packages (from jaxopt>=0.8->ott-jax) (0.4.26+cuda12.cudnn89)\n",
            "Requirement already satisfied: equinox>=0.11.3 in /usr/local/lib/python3.10/dist-packages (from lineax>=0.0.1->ott-jax) (0.11.4)\n",
            "Requirement already satisfied: jaxtyping>=0.2.20 in /usr/local/lib/python3.10/dist-packages (from lineax>=0.0.1->ott-jax) (0.2.28)\n",
            "Requirement already satisfied: typing-extensions>=4.5.0 in /usr/local/lib/python3.10/dist-packages (from lineax>=0.0.1->ott-jax) (4.11.0)\n",
            "Requirement already satisfied: typeguard==2.13.3 in /usr/local/lib/python3.10/dist-packages (from jaxtyping>=0.2.20->lineax>=0.0.1->ott-jax) (2.13.3)\n"
          ]
        }
      ]
    },
    {
      "cell_type": "markdown",
      "source": [
        "### 0.2 Libraries and modules"
      ],
      "metadata": {
        "id": "tMjmMKaXuflb"
      }
    },
    {
      "cell_type": "code",
      "source": [
        "# Import necessary libraries\n",
        "import jax\n",
        "import jax.numpy as jnp\n",
        "import jax.random as random\n",
        "from jax.scipy.linalg import inv,det,sqrtm,cholesky, solve_triangular,eigh\n",
        "from jax.scipy.stats import multivariate_normal\n",
        "from jax import vmap\n",
        "\n",
        " # to compute optimal transport between gaussians,pdfs\n",
        "\n",
        "import ott\n",
        "from ott.geometry import costs, pointcloud\n",
        "from ott.problems.linear import linear_problem\n",
        "from ott.solvers.linear import sinkhorn\n",
        "\n",
        "\n",
        "import numpy as np\n",
        "import matplotlib.pyplot as plt\n",
        "from ott.geometry import pointcloud\n",
        "#from ott.core import sinkhorn\n",
        "#from ott.core import sinkhorn\n",
        "import matplotlib.pyplot as plt\n",
        "from matplotlib.patches import Ellipse\n",
        "\n",
        "\n",
        "import jax.numpy as jnp\n",
        "from jax.scipy.stats import multivariate_normal\n",
        "import matplotlib.pyplot as plt\n",
        "from matplotlib.patches import Ellipse\n",
        "from scipy.stats import chi2\n",
        "\n",
        "\n",
        "from tensorflow_probability.substrates import jax as tfp# for multinomial\n"
      ],
      "metadata": {
        "id": "b-ezM57B8QaB"
      },
      "execution_count": 101,
      "outputs": []
    },
    {
      "cell_type": "markdown",
      "source": [
        "### 0.3 Toggle to test functions"
      ],
      "metadata": {
        "id": "Jld91vP_uoxn"
      }
    },
    {
      "cell_type": "code",
      "source": [
        "test=False"
      ],
      "metadata": {
        "id": "U5-u5xaOo67W"
      },
      "execution_count": 102,
      "outputs": []
    },
    {
      "cell_type": "markdown",
      "source": [
        "## 1. Theory"
      ],
      "metadata": {
        "id": "8gMgJwsuvUBu"
      }
    },
    {
      "cell_type": "markdown",
      "source": [
        "\n",
        "\n",
        "In this notebook we present the estimator of the optimal transport betwenn distributions of Pooladian\n",
        "and Niles-Weedto as described in their [paper](https://arxiv.org/abs/2109.12004). For the sake of consistency, we borrowed their notations and some of their formulations.\n",
        "\n",
        "### 1.1. General formulation of the problem of estimating the optimal transport between two distributions from a sample.\n",
        "\n",
        "#### 1.1.1 The optimal transport problem (Monge, 1781)\n",
        "\n",
        "\n",
        "Let $P$ and $Q$ are two probability measures on the measureable space $(\\Omega,\\mathscr{A})$, where $\\Omega \\subseteq \\mathbb{R}^d$, $d\\geq 1$ and $\\mathscr{A}:=\\{A\\cap\\Omega,A\\in\\mathrm{Borel}(\\mathbb{R}^d)\\}$, $\\mathrm{Borel}(\\mathbb{R}^d)$ is the Borel $\\sigma$-field on $\\mathbb{R}^d$.\n",
        "\n",
        "We denote by  $\\mathcal{T}(P,Q)$ is the set of *admissible maps*, defined as\n",
        "\n",
        "$$\\mathcal{T}(P,Q) := \\{T \\in \\Omega^\\Omega :   T\\text{ is }((\\Omega,\\mathscr{A}),(\\Omega,\\mathscr{A}))\\text{-measurable and }P^T = Q\\},$$ where $P^T$ is the probability measure : $P^T:\\mathscr{A}\\to[0,1], A\\mapsto P(T^{-1}(A))$.\n",
        "\n",
        "An optimal transport from $P$ to $Q$ for the  cost function: $c:\\Omega^2\\to[0,\\infty),(x,y)\\mapsto c(x,y)=\\|x-y\\|^2_2$ is an element $T_0$ of\n",
        "\n",
        "$$\\underset{T \\in \\mathcal{T}(P,Q)}{\\mathrm{argmin}} \\left\\{\\int c( x,  T(x)) ~\\mathrm{d}P(x)\\right\\},      \n",
        " ~~~~~~~~~(1)$$\n",
        "when this set is not empty. In the following, we will not consider other cost function.\n",
        "\n",
        "\n",
        "#### 1.1.2 Examples : gaussian distributions\n",
        "In this section we provide some examples of distributions for which we can compute the optimal transport. It will prove handy later to study the properties of the estimators of the optimal transport from samples of the distributions $P$ and $Q$.\n",
        "\n",
        "\n",
        "Suppose  $P=\\mathrm{Normal}(\\mu_0,\\Sigma_0)$, $Q=\\mathrm{Normal}(\\mu_1,\\Sigma_1)$ then there exist a solution to the optimal transport problem of Equation (1): $$T(x) = \\mu_1 + (\\Sigma_0^{-1/2}(\\Sigma_0^{1/2}\\Sigma_1 \\Sigma_0^{1/2})^{1/2} \\Sigma_0^{-1/2})(x-\\mu_0).$$\n"
      ],
      "metadata": {
        "id": "NQ0TfNJN79A6"
      }
    },
    {
      "cell_type": "markdown",
      "source": [
        "#### Code :  distribution class and functions to plot"
      ],
      "metadata": {
        "id": "Mg0wdv01roUp"
      }
    },
    {
      "cell_type": "code",
      "source": [
        "\n",
        "\n",
        "def multinomial(key, n, p, shape=()):\n",
        "    return tfp.distributions.Multinomial(n, probs=p).sample(\n",
        "        seed=key,\n",
        "        sample_shape=shape,)\n",
        "class gaussian_mixture_distribution:\n",
        "    def __init__(self,\n",
        "                means,\n",
        "                sigmas,\n",
        "                mixing_coefficients=None):\n",
        "        \"\"\"\n",
        "\n",
        "        Args:\n",
        "          means shape: (n_components, n_dimensions)\n",
        "          sigmas shape: (n_components, n_dimensions, n_dimensions)\n",
        "          mixing_coefficients: (n components)\n",
        "        \"\"\"\n",
        "        self.means           = means\n",
        "        self.sigmas          = sigmas\n",
        "        self.i               = self.means.shape[0]\n",
        "        self.space_dimension = self.means.shape[1]\n",
        "        if mixing_coefficients is None:\n",
        "            self.mixing_coefficients=mixing_coefficients\n",
        "            self.mix = jnp.full(self.i, 1/self.i)\n",
        "        else:\n",
        "          self.mixing_coefficients=mixing_coefficients\n",
        "          self.mix=mixing_coefficients/jnp.sum(mixing_coefficients)\n",
        "        # Define the probability density function (pdf) for the mixture model\n",
        "        #return sum(self.mix[j] * np.array([multivariate_normal.pdf(points[:,k], mean=means[j,:], cov=sigmas[j,:,:]) for k in range(points.shape[1])]) for j in range(self.i))\n",
        "\n",
        "    def pdf(self,points):\n",
        "        \"\"\"Evaluate the PDF of a mixture of Gaussians at each point.\"\"\"\n",
        "        # Define a function to calculate PDF using the logpdf method\n",
        "        def logpdf_mv_normal(x, mean, sigma):\n",
        "            \"\"\"Compute log PDF of a multivariate normal distribution.\"\"\"\n",
        "            n = mean.shape[0]\n",
        "            L = cholesky(sigma)\n",
        "            y = solve_triangular(L, (x - mean), lower=True)\n",
        "            logdet = 2 * jnp.sum(jnp.log(jnp.diag(L)))\n",
        "            return -0.5 * n * jnp.log(2 * jnp.pi) - 0.5 * logdet - 0.5 * jnp.dot(y, y)\n",
        "        def pdf_single_component(point, mean, sigma):\n",
        "            \"\"\"Compute PDF by exponentiating the log PDF.\"\"\"\n",
        "            return jnp.exp(logpdf_mv_normal(point, mean, sigma))\n",
        "\n",
        "\n",
        "        def pdf_single_component1(point, mean, sigma):\n",
        "        # mean shape: (n_dimensions)\n",
        "        # sigma shape: (n_dimensions, n_dimensions)\n",
        "            return jnp.exp(multivariate_normal.logpdf(point, mean, sigma))\n",
        "\n",
        "        # Vectorize the PDF computation over both points and mixture components\n",
        "        # points shape: (n_points, n_dimensions)\n",
        "        pdf_all_components = vmap(vmap(pdf_single_component, in_axes=(0, None, None)), in_axes=(None, 0, 0))\n",
        "        component_pdf =      vmap(vmap(pdf_single_component, in_axes=(0, None, None)), in_axes=(None, 0, 0))\n",
        "        pdf_values = component_pdf(points, self.means, self.sigmas)\n",
        "        # Weight PDFs by their mixing coefficients and sum across components\n",
        "        weighted_pdf_values = jnp.tensordot(pdf_values, self.mix, axes=[0, 0])\n",
        "        print(\"pdf_values\")\n",
        "        print(pdf_values)\n",
        "        return weighted_pdf_values\n",
        "\n",
        "    def sample(self, key,n_samples):\n",
        "        component_samples = []\n",
        "        # Split the key for initial counts and then additional keys for sampling\n",
        "        keys = random.split(key, num=self.i + 1)\n",
        "        counts = multinomial(keys[0], n=n_samples, p=self.mix,shape=[1])\n",
        "        for i in range(self.i):\n",
        "            if counts[0,i].item() > 0:  # Only sample if there are samples to draw\n",
        "                samples_from_component = random.multivariate_normal(keys[i+1], mean=self.means[i, :],\n",
        "                                                                    cov=self.sigmas[i, :, :],\n",
        "                                                                    shape=(int(counts[0,i].item()),))\n",
        "        component_samples.append(samples_from_component)\n",
        "        # Concatenate all samples\n",
        "        all_samples = jnp.vstack(component_samples)\n",
        "        # Shuffle to mix the samples from different components\n",
        "        #all_samples = jax.random.permutation(keys[-1], all_samples)\n",
        "        return all_samples\n",
        "\n",
        "\n",
        "\n",
        "    def range(self):\n",
        "      r = jnp.zeros([self.space_dimension, 2])\n",
        "      # Using .at[].set() to immutably modify the array\n",
        "      r = r.at[:, 0].set(self.means[0, :])\n",
        "      r = r.at[:, 1].set(self.means[0, :])\n",
        "      for i in range(self.means.shape[0]):\n",
        "            for j in range(self.space_dimension):\n",
        "                r = r.at[j, 0].set(jnp.minimum(r[j, 0], self.means[i, j]-3*jnp.sqrt(self.sigmas[i,j,j])))\n",
        "                r = r.at[j, 1].set(jnp.maximum(r[j, 1], self.means[i, j]+3*jnp.sqrt(self.sigmas[i,j,j])))\n",
        "      return r\n",
        "#test\n",
        "if test:\n",
        "  def generate_positive_definite_matrices(key, n_components=3, n_dimensions=4):\n",
        "    # Generate a random key for JAX\n",
        "    keys = random.split(key, n_components)\n",
        "    # Create an array to store the matrices\n",
        "    matrices = jnp.zeros((n_components, n_dimensions, n_dimensions))\n",
        "    for i, key in enumerate(keys):\n",
        "        # Generate a random matrix\n",
        "        A = random.normal(key, (n_dimensions, n_dimensions))\n",
        "        # Make the matrix symmetric\n",
        "        A_symmetric =A @ A.T\n",
        "        # Make the matrix positive definite\n",
        "        A_pos_def = A_symmetric + n_dimensions* jnp.eye(n_dimensions)\n",
        "        # Store the matrix in the array\n",
        "        matrices = matrices.at[i].set(A_pos_def)\n",
        "    return matrices\n",
        "\n",
        "  def test0(n_dimensions,n_points,n_components,key):\n",
        "    ### 1D example with a mix of two distributions\n",
        "    mixing_coefficients_d=jnp.array(np.random.randn(n_components))\n",
        "    means_d=jnp.array(np.random.randn(n_components, n_dimensions))\n",
        "    sigmas_d=generate_positive_definite_matrices(key,n_components, n_dimensions)\n",
        "    points = jnp.array(np.random.randn(n_points, n_dimensions))\n",
        "    dist_d=gaussian_mixture_distribution(means=means_d,sigmas=sigmas_d,mixing_coefficients=mixing_coefficients_d)\n",
        "    print(\"- sigmas:\")\n",
        "    print(sigmas_d)\n",
        "    print(\"- density:\")\n",
        "    print(dist_d.pdf(jnp.array(points)))\n",
        "    print(\"- range:\")\n",
        "    print(dist_d.range())\n",
        "    print(\"- sample:\")\n",
        "    print(dist_d.sample(key,3))\n",
        "\n",
        "  key = random.PRNGKey(0)\n",
        "  print(generate_positive_definite_matrices(key,3,2))\n",
        "  print(\"1d\")\n",
        "  test0(1,2,3,key)\n",
        "  print(\"2d\")\n",
        "  test0(2,3,4,key)\n",
        "\n",
        "\n"
      ],
      "metadata": {
        "id": "vMyeBKKwieJc"
      },
      "execution_count": 103,
      "outputs": []
    },
    {
      "cell_type": "code",
      "source": [
        "import jax.numpy as jnp\n",
        "\n",
        "# Example jnp array\n",
        "x = jnp.array([[[1, 2], [3, 4], [5, 6]],\n",
        "               [[7, 8], [9, 10], [11, 12]]])\n",
        "\n",
        "# Indexing with drop=False\n",
        "result = x[0,  jnp.newaxis,:]  # Add a new axis to keep the dimensionality unchanged\n",
        "print(x.shape)\n",
        "print(result.shape)"
      ],
      "metadata": {
        "colab": {
          "base_uri": "https://localhost:8080/"
        },
        "id": "SlDIyLS4RVxp",
        "outputId": "d7764657-bb70-45ff-bd5e-8129e23596bf"
      },
      "execution_count": 104,
      "outputs": [
        {
          "output_type": "stream",
          "name": "stdout",
          "text": [
            "(2, 3, 2)\n",
            "(1, 3, 2)\n"
          ]
        }
      ]
    },
    {
      "cell_type": "code",
      "source": [
        "def optimal_transport_gaussian(gaussian1,gaussian2):\n",
        "\n",
        "    mu0, Sigma0, mu1, Sigma1 =  (gaussian1.means[0,:], gaussian1.sigmas[0,:,:],gaussian2.means[0,:], gaussian2.sigmas[0,:,:])\n",
        "\n",
        "    # Compute necessary matrix square roots and inversions\n",
        "    Sigma0_half = sqrtm(Sigma0)\n",
        "    Sigma0_inv_half = jnp.linalg.inv(Sigma0_half)\n",
        "    M = Sigma0_half @ Sigma1 @ Sigma0_half\n",
        "    M_half = sqrtm(M)\n",
        "    M_inv_half = jnp.linalg.inv(M_half)\n",
        "\n",
        "    # Compute the optimal transformation matrix B\n",
        "    B = jnp.real(Sigma0_inv_half @ M_half @ Sigma0_inv_half)\n",
        "\n",
        "    # Define the transport function\n",
        "    def make_transport(mu0, mu1, B):\n",
        "        def transport(x):\n",
        "           return jnp.real(mu1 + jnp.dot(B, (x - mu0)))\n",
        "        return transport\n",
        "    transport = make_transport(mu0, mu1, B)\n",
        "    return vmap(transport,in_axes=0)\n",
        "#test\n",
        "if test:\n",
        "    def generate_2_gaussians(n_dimensions,key):\n",
        "        means_d=jnp.array(np.random.randn(2, n_dimensions))\n",
        "        sigmas_d=generate_positive_definite_matrices(key,2, n_dimensions)\n",
        "        gaussian1=gaussian_mixture_distribution(means_d[0,:][jnp.newaxis,:],sigmas_d[0,:,:][jnp.newaxis,:,:])\n",
        "        gaussian2=gaussian_mixture_distribution(means_d[1,:][jnp.newaxis,:],sigmas_d[1,:,:][jnp.newaxis,:,:])\n",
        "        return [gaussian1,gaussian2]\n",
        "\n",
        "    def test1(n_dimensions,key):\n",
        "        ### 1D example with a mix of two distributions\n",
        "        print(\"test dimension \"+str(n_dimensions))\n",
        "        gaussian1,gaussian2=generate_2_gaussians(n_dimensions,key)\n",
        "        points=jnp.array(np.random.randn(4, n_dimensions))\n",
        "        t=optimal_transport_gaussian(gaussian1,gaussian2)\n",
        "        print(\" - test points\")\n",
        "        print(\"   -  points\")\n",
        "        print(points)\n",
        "        print(points.shape)\n",
        "        print(\"    - move points\")\n",
        "        print(t(points))\n",
        "        print(t(points).shape)\n",
        "        print(\" - test move center to center\")\n",
        "        mu0=gaussian1.means[0,:][jnp.newaxis,:];\n",
        "        mu1=gaussian2.means[0,:][jnp.newaxis,:];\n",
        "        tmu0=t(mu0);\n",
        "        print(\"   - relative distance\")\n",
        "        print(jnp.sum((tmu0-mu1) ** 2)/ (jnp.sum((tmu0) ** 2) + jnp.sum((mu1) ** 2)))\n",
        "    key = random.PRNGKey(0)\n",
        "    test1(1,key)\n",
        "    test1(2,key)"
      ],
      "metadata": {
        "id": "1i9oROsulR7D"
      },
      "execution_count": 105,
      "outputs": []
    },
    {
      "cell_type": "code",
      "source": [
        "def plot_2d_eigenvectors(ax,gaussian,color):\n",
        "    # Calculate eigenvectors and eigenvalues of the covariance matrix\n",
        "    eigvals, eigvecs = eigh(gaussian.sigmas[0,:,:])\n",
        "    mean=gaussian.means[0,:]\n",
        "    # Plot the eigenvectors as arrows\n",
        "    for i in range(2):\n",
        "        ax.arrow(mean[0], mean[1], -eigvecs[0, i] * eigvals[i], -eigvecs[1, i] * eigvals[i],\n",
        "                  color=color, width=0.05, head_width=0.2, alpha=0.5)\n",
        "\n",
        "\n",
        "def plot_gaussian_density(ax,gaussian, colormap=plt.cm.Reds):\n",
        "    # Create a grid of points\n",
        "    r=gaussian.range()\n",
        "    x = jnp.linspace(r[0,0], r[0,1], 100)\n",
        "    y = jnp.linspace(r[1,0], r[1,1], 100)\n",
        "    X, Y = jnp.meshgrid(x, y)\n",
        "    XY=jnp.column_stack((X.ravel(), Y.ravel()))\n",
        "    # Evaluate densities\n",
        "    Z = jnp.reshape(gaussian.pdf(XY),(100,100))\n",
        "\n",
        "\n",
        "    # Create grid of points\n",
        "    # Manually adjust color levels and corresponding colors\n",
        "    levels = np.linspace(0, np.max(Z), 10)  # Adjust as needed Convert list to array\n",
        "    colors = ['white'] * 1 + [colormap(i) for i in np.linspace(0.1, 1, 9)]\n",
        "\n",
        "    # Plot Gaussian density with adjusted colors\n",
        "    ax.contourf(X, Y, Z, levels=levels, colors=colors)\n",
        "\n",
        "# Define the plotting function\n",
        "def plot_densities(ax,dits1, dist2):\n",
        "    # Compute the transport\n",
        "    # Create a grid of points\n",
        "    r1=dist1.range()\n",
        "    r2=dist2.range()\n",
        "    r = jnp.column_stack((jnp.minimum(r1[:, 0], r2[:, 0]), jnp.maximum(r1[:, 1], r2[:, 1])))\n",
        "    x = jnp.linspace(r[0,0], r[0,1], 100)\n",
        "    y = jnp.linspace(r[1,0], r[1,1], 100)\n",
        "    X, Y = jnp.meshgrid(x, y)\n",
        "    XY=jnp.column_stack((X.ravel(), Y.ravel()))\n",
        "    # Evaluate densities\n",
        "    Z1 = dist1.pdf(XY)\n",
        "    Z2 = dist2.pdf(XY)\n",
        "\n",
        "    weights = jnp.reshape(Z1-Z2,(100,100))\n",
        "    greys = jnp.full((*weights.shape, 3), 70, dtype=jnp.uint8)\n",
        "    # First we'll plot these blobs using ``imshow`` without transparency.\n",
        "    vmax = np.abs(weights).max()\n",
        "    imshow_kwargs = {\n",
        "        'vmax': vmax,\n",
        "        'vmin': -vmax,\n",
        "        'cmap': 'RdYlBu',\n",
        "        'extent': (r[0,0], r[0,1], r[1,0], r[1,1]),\n",
        "    }\n",
        "\n",
        "    ax.imshow(weights, **imshow_kwargs)\n",
        "\n",
        "\n",
        "def plot_ellipsoids_and_vectors(ax, gaussian, color):\n",
        "    vals, vecs = np.linalg.eigh(gaussian.sigmas[0,:,:])\n",
        "    mean=gaussian.means[0,:]\n",
        "    order = vals.argsort()[::-1]\n",
        "    vals, vecs = vals[order], vecs[:, order]\n",
        "    theta = np.degrees(np.arctan2(*vecs[:,0][::-1]))\n",
        "\n",
        "    # Quantiles for ellipsoids\n",
        "    for quantile in [0.25, 0.5, 0.75, 0.9]:\n",
        "        scale = np.sqrt(chi2.ppf(quantile, 2))\n",
        "        width, height = 2 * scale * np.sqrt(vals)\n",
        "        ell = Ellipse(xy=mean, width=width, height=height, angle=theta, edgecolor=color,\n",
        "                      facecolor=color, lw=1,alpha=0.1)\n",
        "        ax.add_patch(ell)\n",
        "def sample_points_on_ellipse(key, gaussian, quantile, num_samples):\n",
        "    # Generate samples from a multivariate normal distribution\n",
        "    key, subkey = random.split(key)\n",
        "    center=gaussian.means[0,:]\n",
        "    sigma=gaussian.sigmas[0,:,:]\n",
        "    normal_samples = random.multivariate_normal(subkey, mean=jnp.zeros(center.shape), cov=jnp.eye(center.shape[0]), shape=(num_samples,))\n",
        "\n",
        "    # Compute Cholesky decomposition of the covariance matrix\n",
        "    L = jnp.linalg.cholesky(sigma)\n",
        "\n",
        "    # Transform samples to lie on the ellipse boundary\n",
        "    norms = jnp.linalg.norm(normal_samples, axis=-1)\n",
        "    normalized_samples = normal_samples / norms[:, None]\n",
        "    scaled_samples = jnp.sqrt(chi2.ppf(quantile, 2)) * jnp.dot(normalized_samples, sqrtm(L))\n",
        "\n",
        "\n",
        "    # Translate samples to be centered around the specified center\n",
        "    translated_samples = scaled_samples + center\n",
        "\n",
        "    return jnp.real(translated_samples)\n",
        "\n",
        "\n",
        "def plot_points_and_transported_points(ax,points,t,ls):\n",
        "    B=t(points)\n",
        "    x_A, y_A = points[:, 0], points[:, 1]\n",
        "    x_B, y_B = B[:, 0], B[:, 1]\n",
        "\n",
        "    # Compute arrow directions\n",
        "    dx = x_B - x_A\n",
        "    dy = y_B - y_A\n",
        "    ax.quiver(x_A, y_A, dx, dy, scale_units='xy', angles='xy', scale=1,ls=ls)\n",
        "\n",
        "    ax.scatter(x_A, y_A, color='red', label='Starting Points (A)')\n",
        "    ax.scatter(x_B, y_B, color='blue', label='Ending Points (B)')\n",
        "\n",
        "\n",
        "\n",
        "\n",
        "def plot_optimal_transport_2d_gaussians(key,gaussian1,gaussian2):\n",
        "    t=optimal_transport_gaussian(gaussian1,gaussian2)\n",
        "    points=sample_points_on_ellipse(key,gaussian1,0.9,5)\n",
        "    fig, ax = plt.subplots()\n",
        "    plot_2d_eigenvectors(ax,gaussian1,'red')\n",
        "    plot_ellipsoids_and_vectors(ax, gaussian1, 'red')\n",
        "    plot_2d_eigenvectors(ax,gaussian2,'blue')\n",
        "    plot_ellipsoids_and_vectors(ax, gaussian2, 'blue')\n",
        "    plot_points_and_transported_points(ax,points,t,'solid')\n",
        "    return fig\n",
        "\n",
        "#test\n",
        "if test:\n",
        "    gaussian1=gaussian_mixture_distribution(means=jnp.array([[0,0]]),sigmas=jnp.array([[[7,1],[1,1]]]))\n",
        "    gaussian2=gaussian_mixture_distribution(means=jnp.array([[0,0]]),sigmas=jnp.array([[[1,1],[1,7]]]))\n",
        "    gaussian3=gaussian_mixture_distribution(means=jnp.array([[5,5]]),sigmas=jnp.array([[[7,1],[1,1]]]))\n",
        "    gaussian4=gaussian_mixture_distribution(means=jnp.array([[5,5]]),sigmas=jnp.array([[[1,1],[1,7]]]))\n",
        "    plot_optimal_transport_2d_gaussians(key,gaussian1,gaussian1)\n",
        "    plot_optimal_transport_2d_gaussians(key,gaussian1,gaussian2)\n",
        "    plot_optimal_transport_2d_gaussians(key,gaussian1,gaussian3)\n",
        "    plot_optimal_transport_2d_gaussians(key,gaussian1,gaussian4)\n"
      ],
      "metadata": {
        "id": "Vz9fk0vDk6Rp"
      },
      "execution_count": 106,
      "outputs": []
    },
    {
      "cell_type": "markdown",
      "source": [
        "#### Illustration"
      ],
      "metadata": {
        "id": "kRY1RB1zr1-A"
      }
    },
    {
      "cell_type": "code",
      "source": [
        "gaussian1=gaussian_mixture_distribution(means=jnp.array([[0,0]]),sigmas=jnp.array([[[7,1],[1,1]]]))\n",
        "gaussian4=gaussian_mixture_distribution(means=jnp.array([[5,5]]),sigmas=jnp.array([[[1,1],[1,7]]]))\n",
        "p=plot_optimal_transport_2d_gaussians(key,gaussian1,gaussian4)"
      ],
      "metadata": {
        "colab": {
          "base_uri": "https://localhost:8080/",
          "height": 430
        },
        "id": "wkBOb7ltm8yE",
        "outputId": "5c51d3a1-65d2-4516-f372-80d715e26467"
      },
      "execution_count": 113,
      "outputs": [
        {
          "output_type": "display_data",
          "data": {
            "text/plain": [
              "<Figure size 640x480 with 1 Axes>"
            ],
            "image/png": "[encoded data removed]"
          },
          "metadata": {}
        }
      ]
    },
    {
      "cell_type": "markdown",
      "source": [
        "#### 1.1.3. Brenier's theorem\n",
        "\n",
        "\n",
        "Let $\\mathcal{P}(\\Omega)$ be the space of (Borel) probability measures with support contained in $\\Omega$, and $\\mathcal{P}_{\\text{ac}}(\\Omega)$ be those with densities.\n",
        "\n",
        "\n",
        "Brenier's Theorem, provides (and is not limited to) a sufficient condition ($P$ has a density) for the existence of an optimal transport from $P$ to $Q$.\n",
        "\n",
        "\n",
        "Brenier's theorem also expresses the optimal transport when the sufficient conditions are met, as a function of the  \n",
        "\n",
        "$$\\varphi_0=\\underset{\\varphi \\in L^1(P)}{\\mathrm{argmin}} \\int \\varphi \\mathrm{d} P + \\int \\varphi^* \\mathrm{d} Q,$$\n",
        "\n",
        "where $L^1(P)$ is the set of integrable functions with respect to $P$ and $\\varphi^*$ is the convex conjugate to $\\varphi$.\n",
        "\n",
        "\n",
        "#### 1.1.4. The convex relaxation of the Monge problem by Kantorovitch\n",
        "\n",
        "The optimal plan $\\pi_0$ between $P$ and $Q$ is the coupling,\n",
        "e.g. the element of\n",
        "$$ \\Pi(P,Q) := \\{ \\pi \\in \\mathcal{P}(\\Omega \\times \\Omega) \\ |  \\ \\pi(A\\times\\Omega) = P(A), \\pi(\\Omega\\times A) = Q(A) \\}$$\n",
        "that minimises\n",
        "\n",
        "$$\\underset{\\pi \\in \\Pi(P,Q)}{\\mathrm{argmin}} \\int \\frac{1}{2}\\| x - y\\|_2^2 \\mathrm{d} \\pi(x,y) ~~~~~~~(5)$$\n",
        "The 2-Wasserstein distance between $P$ and $Q$ is then\n",
        "$$\n",
        "\\frac{1}{2}W_2^2(P,Q) := \\min_{\\pi \\in \\Pi(P,Q)} \\int \\frac{1}{2}\\| x - y\\|_2^2 \\mathrm{d} \\pi(x,y)=\\int \\frac{1}{2}\\| x - y\\|_2^2 \\mathrm{d} \\pi_0(x,y)$$\n"
      ],
      "metadata": {
        "id": "cyO9oGbpuPl4"
      }
    },
    {
      "cell_type": "markdown",
      "source": [
        "### 1.1.5. Entropic optimal transport under the quadratic cost\n",
        "\n",
        "\n",
        "We regularise the problem of Equation (5) by adding a regularization term times a regularization parameter $\\varepsilon$. Assume both $P$ and $Q$ have second order moments, then the following expression is defined and is called the optimal entropic plan\n",
        "\n",
        "$$\\pi_\\varepsilon:=\n",
        "\\min_{\\pi \\in \\Pi(P,Q)}S_\\varepsilon(P,Q),$$ where $$S_\\varepsilon(P,Q) := \\min_{\\pi \\in \\Pi(P,Q)} \\iint \\frac{1}{2}\\|x-y\\|_2^2 \\mathrm{d} \\pi(x,y) + \\varepsilon D_{\\mathrm{KL}}(\\pi||P \\otimes Q),~~~~~~~~~(7)$$\n",
        "and $D_{\\mathrm{KL}}$ denotes the Kullback-Leibler divergence.\n",
        "\n",
        "The dual version of Equation (7) is based on the following property:\n",
        "\n",
        "\n",
        "\n",
        "$$S_\\varepsilon(P, Q) = \\max_{\\substack{f \\in L^1(P)\\\\g \\in L^1(Q)}} \\int f \\mathrm{d} P + \\int g \\mathrm{d} Q - \\varepsilon \\iint e^{(f(x) + g(y) - \\frac{1}{2}\\|x-y\\|^2)/ \\varepsilon}\\mathrm{d} P(x)\\mathrm{d} Q(y) + \\varepsilon. ~~~(8)$$\n",
        "\n",
        "\n",
        "The solutions in $(f_\\varepsilon, g_\\varepsilon)$ the solution to Equation (8(are called the **optimal entropic potentials** and the optimal entropic plan can be derived from\n",
        "$(f_\\varepsilon, g_\\varepsilon)$ via the relation:\n",
        "\n",
        "\n",
        "$$ \\mathrm{d}\\pi_\\varepsilon(x,y) := \\tilde{\\pi}_\\varepsilon(x,y) \\mathrm{d} P(x) \\mathrm{d} Q(y) := \\exp((f_\\varepsilon(x) + g_\\varepsilon(y) - \\frac{1}{2}\\|x-y\\|^2)/\\varepsilon) \\mathrm{d} P(x)\\mathrm{d} Q(y)\\,. $$\n",
        "\n",
        "which implies that $$\n",
        "\\int \\exp\\left(\\frac 1 \\varepsilon(f_\\varepsilon(x) + g_\\varepsilon(y) - \\frac{1}{2}\\|x-y\\|^2)\\right) \\mathrm{d} P(x)  =1 \\quad \\forall y \\in \\mathbb{R}^d ~~~~(9.1)$$\n",
        "and $$\n",
        "\\int \\exp\\left(\\frac 1 \\varepsilon(f_\\varepsilon(x) + g_\\varepsilon(y) - \\frac{1}{2}\\|x-y\\|^2)\\right) \\mathrm{d} Q(y)  =1 \\quad \\forall x \\in \\mathbb{R}^d\\,.~~~~(9.2)\n",
        "$$\n",
        "\n",
        "\n",
        "Importantly if $(f_\\varepsilon, g_\\varepsilon)$ satisfies (9.1) and (9.2) $P \\otimes Q$ almost everywhere, then $\\exp((f_\\varepsilon(x) + g_\\varepsilon(y) - \\frac{1}{2}\\|x-y\\|^2)/\\varepsilon)$ is the $P \\otimes Q$ density of the optimal entropic plan."
      ],
      "metadata": {
        "id": "BmBpkQ59txVG"
      }
    },
    {
      "cell_type": "markdown",
      "source": [
        "\n",
        "\n",
        "\n",
        "\n",
        "\n",
        "### 1.2 Estimation from a sample\n",
        "\n",
        "Imagine that $P$ and $Q$ are unknown, and we have two iid samples\n",
        "$X_1,\\ldots,X_n\\overset{i.i.d}\\sim P$,\n",
        "$Y_1,\\ldots,Y_n\\overset{i.i.d}\\sim Q$,\n",
        "\n",
        "Let denote $P_n = \\frac 1n \\sum_{i=1}^n \\delta_{X_i}$ and $Q_n = \\frac 1n \\sum_{i=1}^n \\delta_{Y_i}$  the corresponding empirical distributions, where $\\delta_x$ is the Dirac measure in $\\mathbb{x}$.\n",
        "\n",
        "The authors define the following estimator: $$T_{\\varepsilon, (n, n)}:\\Omega\\to\\Omega,x\\mapsto\n",
        "T_{\\varepsilon, (n, n)}(x) = \\frac{\\frac 1n \\sum_{i=1}^n Y_i \\exp\\left(\\frac 1 \\varepsilon(g_{\\varepsilon, (n,n)}(Y_i) - \\frac 12 \\|x -Y_i \\|^2)\\right)}{\\frac 1n \\sum_{i=1}^n \\exp\\left(\\frac 1 \\varepsilon(g_{\\varepsilon, (n,n)}(Y_i) - \\frac 12 \\|x -Y_i \\|^2)\\right)}\\,,\n",
        "$$\n",
        "where $g_{\\varepsilon, (n, n)}$ is the entropic potential corresponding to $Q_n$ in the optimal entropic plan between $P_n$ and $Q_n$.\n",
        "\n",
        "\n",
        "\n"
      ],
      "metadata": {
        "id": "4f54HqjiYcuE"
      }
    },
    {
      "cell_type": "markdown",
      "source": [
        "### Code"
      ],
      "metadata": {
        "id": "puCkFQmj8SNW"
      }
    },
    {
      "cell_type": "markdown",
      "source": [
        "# 2. Computation of the estimator with ott-jax"
      ],
      "metadata": {
        "id": "lIh6hcpRDhft"
      }
    },
    {
      "cell_type": "markdown",
      "source": [
        "### 2.1. Code for the estimator\n",
        "\n",
        "The estimator is a function of the observations, namely $X$ and $Y$, and is tuned up by $\\varepsilon$.\n",
        "\n",
        "\n",
        "To code for the estimator in python, we create a python function that takes two jnparrays of the same dimension (first dimension is the sample size, second the space dimension).\n",
        "\n",
        "Then, we  define a `PointCloud` `geometry` which contains:\n",
        "* the point clouds `X` and `Y`,\n",
        "* the cost function `cost_fn`,\n",
        "* the entropic regularization strength `epsilon`.\n",
        "\n",
        "The weight vectors `a` and `b`, are constants.\n",
        "\n",
        "For the `cost_fn` parameter, we take `ott.geometry.costs.Euclidean`.\n",
        "\n",
        "Note that we need to use the option `relative_epsilon=False` when using the computation of the cost in `ott`.\n",
        "\n",
        "We run the sinkhorn algorithm and get as a sideproduct the values of $g_\\varepsilon$ for all points of $Y$.\n",
        "\n",
        "Then we have all the ingredients to compute the estimator."
      ],
      "metadata": {
        "id": "ksYaauT8WyIX"
      }
    },
    {
      "cell_type": "code",
      "source": [
        "def T(x,y,epsilon):\n",
        "    n=x.shape[0]\n",
        "    m=y.shape[0]\n",
        "    a = jnp.ones(n) / n\n",
        "    b = jnp.ones(m) / m\n",
        "    geom = pointcloud.PointCloud(\n",
        "        x=x, y=y,\n",
        "        cost_fn=costs.Euclidean(),\n",
        "        epsilon=epsilon,\n",
        "        relative_epsilon=False\n",
        "    )\n",
        "    # create optimization problem\n",
        "    ot_prob = linear_problem.LinearProblem(geom, a=a, b=b)\n",
        "\n",
        "    # create sinkhorn solver\n",
        "    solver = sinkhorn.Sinkhorn(ot_prob)\n",
        "\n",
        "    # solve the OT problem\n",
        "    ot_sol = solver(ot_prob)\n",
        "\n",
        "    g=ot_sol.g\n",
        "    def make_transport(y, g, epsilon):\n",
        "        def transport(x):\n",
        "          \"\"\"\n",
        "          Compute the entropic transport map T_epsilon for a point x to a distribution Y.\n",
        "\n",
        "          Parameters:\n",
        "          - x (jnp.ndarray): A single point from the source distribution.\n",
        "          - y (jnp.ndarray): Target distribution points.\n",
        "          - g (jnp.ndarray): Dual variable for the target distribution from Sinkhorn output.\n",
        "          - epsilon (float): Regularization parameter for entropy.\n",
        "\n",
        "          Returns:\n",
        "          - jnp.ndarray: The mapped point in the target space as per entropic transport.\n",
        "          \"\"\"\n",
        "          # Compute the squared Euclidean distances from x to each point in Y\n",
        "          squared_distances = jnp.linalg.norm(x - y, axis=1) ** 2\n",
        "\n",
        "          # Compute the weights for each y in Y\n",
        "          weights = jnp.exp((g - 0.5 * squared_distances) / epsilon)\n",
        "\n",
        "          # Compute the denominator for normalization\n",
        "          normalization = jnp.sum(weights)\n",
        "\n",
        "          # Compute the numerator, which is the weighted sum of the points in Y\n",
        "          weighted_sum = jnp.dot(weights, y)\n",
        "\n",
        "          # Calculate the transport map result as the ratio\n",
        "          transport_map_result = weighted_sum / normalization\n",
        "          return transport_map_result\n",
        "        return transport\n",
        "    transport = make_transport(y, g, epsilon)\n",
        "    return vmap(transport,in_axes=0)\n"
      ],
      "metadata": {
        "id": "7NyAS9AsIkDo"
      },
      "execution_count": 108,
      "outputs": []
    },
    {
      "cell_type": "markdown",
      "source": [
        "#### test cell"
      ],
      "metadata": {
        "id": "kX9roEVsWZph"
      }
    },
    {
      "cell_type": "code",
      "source": [
        "if test:\n",
        "    gaussian1=gaussian_mixture_distribution(means=jnp.array([[0,0]]),sigmas=jnp.array([[[7,1],[1,1]]]))\n",
        "    gaussian2=gaussian_mixture_distribution(means=jnp.array([[5,5]]),sigmas=jnp.array([[[1,1],[1,7]]]))\n",
        "    key = jax.random.PRNGKey(0)\n",
        "    key1,key2=jax.random.split(key, 2)\n",
        "    x=gaussian1.sample(key1,n)\n",
        "    y=gaussian2.sample(key2,n)\n",
        "    epsilon=0.1\n",
        "    t=T(x,y,epsilon)\n",
        "    # Define the transport function\n",
        "    print(t(x))\n"
      ],
      "metadata": {
        "id": "sQ9wC2OmWY3O"
      },
      "execution_count": 109,
      "outputs": []
    },
    {
      "cell_type": "markdown",
      "source": [
        "###2.2. Simulation setup\n",
        "\n",
        "We generate two 2 dimensional normal gaussian distributions $P$ and $Q$ and draw samples of size $n$ and compare $T_{\\varepsilon, (n, n)}$ to $T_0$ for $\\varepsilon\\in\\{0.01, 0.1\\}$ and $n\\in\\{100,1000\\}$"
      ],
      "metadata": {
        "id": "KCVsKBEdEDiH"
      }
    },
    {
      "cell_type": "code",
      "source": [
        "def simu(n,epsilon):\n",
        "    gaussian1=gaussian_mixture_distribution(means=jnp.array([[0,0]]),sigmas=jnp.array([[[7,1],[1,1]]]))\n",
        "    gaussian2=gaussian_mixture_distribution(means=jnp.array([[5,5]]),sigmas=jnp.array([[[1,1],[1,7]]]))\n",
        "    key = jax.random.PRNGKey(0)\n",
        "    key1,key2=jax.random.split(key, 2)\n",
        "    x=gaussian1.sample(key1,n)\n",
        "    y=gaussian2.sample(key2,n)\n",
        "    epsilon=0.1\n",
        "    return(n,epsilon,T(x,y,epsilon))\n",
        "\n",
        "\n",
        "\n",
        "def plot_optimal_and_estimated_transport_2d_gaussians(key,gaussian1,gaussian2,tepsilon):\n",
        "    t=optimal_transport_gaussian(gaussian1,gaussian2)\n",
        "    points=gaussian1.sample(key,20)\n",
        "    fig, ax = plt.subplots()\n",
        "    plot_2d_eigenvectors(ax,gaussian1,'red')\n",
        "    plot_ellipsoids_and_vectors(ax, gaussian1, 'red')\n",
        "    plot_2d_eigenvectors(ax,gaussian2,'blue')\n",
        "    plot_ellipsoids_and_vectors(ax, gaussian2, 'blue')\n",
        "    plot_points_and_transported_points(ax,points,t,'solid')\n",
        "    plot_points_and_transported_points(ax,points,tepsilon,'dashed')\n",
        "    return fig\n",
        "\n",
        "\n",
        "\n"
      ],
      "metadata": {
        "id": "h3WG4Uk8Eu0J"
      },
      "execution_count": 110,
      "outputs": []
    },
    {
      "cell_type": "code",
      "source": [
        "t1=simu(100,0.1)\n",
        "t2=simu(100,0.01)\n",
        "t3=simu(1000,0.1)\n",
        "t4=simu(1000,0.01)"
      ],
      "metadata": {
        "id": "PT6vrH5lcXe3"
      },
      "execution_count": 111,
      "outputs": []
    },
    {
      "cell_type": "code",
      "source": [
        "p=plot_optimal_and_estimated_transport_2d_gaussians(key,gaussian1,gaussian2,t1[2])"
      ],
      "metadata": {
        "colab": {
          "base_uri": "https://localhost:8080/",
          "height": 430
        },
        "id": "XdZzruAdcYsx",
        "outputId": "efce925f-e7ae-4f7b-e07a-690ed516086c"
      },
      "execution_count": 114,
      "outputs": [
        {
          "output_type": "display_data",
          "data": {
            "text/plain": [
              "<Figure size 640x480 with 1 Axes>"
            ],
            "image/png": "[encoded data removed]"
          },
          "metadata": {}
        }
      ]
    },
    {
      "cell_type": "markdown",
      "metadata": {
        "id": "j8C70m28m338"
      },
      "source": [
        "***"
      ]
    }
  ],
  "metadata": {
    "colab": {
      "provenance": [],
      "collapsed_sections": [
        "TjCBFSV3XZV1"
      ]
    },
    "kernelspec": {
      "display_name": "Python 3 (ipykernel)",
      "language": "python",
      "name": "python3"
    },
    "language_info": {
      "codemirror_mode": {
        "name": "ipython",
        "version": 3
      },
      "file_extension": ".py",
      "mimetype": "text/x-python",
      "name": "python",
      "nbconvert_exporter": "python",
      "pygments_lexer": "ipython3",
      "version": "3.11.7"
    }
  },
  "nbformat": 4,
  "nbformat_minor": 0
}